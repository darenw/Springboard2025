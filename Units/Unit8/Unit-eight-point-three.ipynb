{
 "cells": [
  {
   "cell_type": "markdown",
   "id": "06880273-205b-4be9-9789-2a8ed11e9b9d",
   "metadata": {},
   "source": [
    "# Unit 8.3 Questions 10 - 13"
   ]
  },
  {
   "cell_type": "code",
   "execution_count": 3,
   "id": "fc44ea65-85b8-4740-80da-16589237d637",
   "metadata": {},
   "outputs": [],
   "source": [
    "import sqlite3 as sq3"
   ]
  },
  {
   "cell_type": "code",
   "execution_count": 4,
   "id": "3723847d-a156-4e90-832c-67cb61700826",
   "metadata": {},
   "outputs": [
    {
     "name": "stdout",
     "output_type": "stream",
     "text": [
      "Database sqlite_db_pythonsqlite.db connected with SQLite3 ver 2.6.0\n",
      "<sqlite3.Cursor object at 0x7fbae4263340>\n"
     ]
    },
    {
     "name": "stderr",
     "output_type": "stream",
     "text": [
      "/tmp/ipykernel_2102528/761827085.py:4: DeprecationWarning: version is deprecated and will be removed in Python 3.14\n",
      "  print(f\"Database {db_filename} connected with SQLite3 ver {sq3.version}\")\n"
     ]
    }
   ],
   "source": [
    "db_filename = 'sqlite_db_pythonsqlite.db'\n",
    "try:\n",
    "   connection = sq3.connect(db_filename)\n",
    "   print(f\"Database {db_filename} connected with SQLite3 ver {sq3.version}\")\n",
    "except sq3.Error as err:\n",
    "    print(\"Couldn't connect to db file {db_filename}\")\n",
    "    print(err)\n",
    "\n",
    "cur = connection.cursor()\n",
    "print(cur)"
   ]
  },
  {
   "cell_type": "code",
   "execution_count": 5,
   "id": "449b98d3-137b-4c26-850e-5381c6829c9e",
   "metadata": {},
   "outputs": [
    {
     "name": "stdout",
     "output_type": "stream",
     "text": [
      "(0, 'GUEST', 'GUEST', 'GUEST', 0, '(000) 000-0000', '', '2012-07-01 00:00:00')\n",
      "(1, 'Smith', 'Darren', '8 Bloomsbury Close, Boston', 4321, '555-555-5555', '', '2012-07-02 12:02:05')\n",
      "(2, 'Smith', 'Tracy', '8 Bloomsbury Close, New York', 4321, '555-555-5555', '', '2012-07-02 12:08:23')\n",
      "(3, 'Rownam', 'Tim', '23 Highway Way, Boston', 23423, '(844) 693-0723', '', '2012-07-03 09:32:15')\n"
     ]
    }
   ],
   "source": [
    "# check basic functionality with a simple query\n",
    "query_1 = 'select * from members limit 4'\n",
    "cur.execute(query_1)\n",
    "rows = cur.fetchall()\n",
    "for row in rows:\n",
    "    print(row)\n"
   ]
  },
  {
   "cell_type": "code",
   "execution_count": 30,
   "id": "247045b2-5bb9-4d9c-a119-3248572feb44",
   "metadata": {},
   "outputs": [
    {
     "name": "stdout",
     "output_type": "stream",
     "text": [
      "(8, 'Pool Table', 270)\n",
      "(7, 'Snooker Table', 240)\n",
      "(3, 'Table Tennis', 180)\n"
     ]
    }
   ],
   "source": [
    "# Question 10\n",
    "\n",
    "# place-holder for now\n",
    "query_10 = \"\"\"   \n",
    "WITH info_with_costs AS (\n",
    "   SELECT \n",
    "        fac.name AS name,  \n",
    "\t\tfac.facid AS facid,\n",
    "        bk.slots * (\n",
    "            CASE \n",
    "                WHEN bk.memid = 0 THEN fac.guestcost \n",
    "                ELSE fac.membercost \n",
    "            END\n",
    "        ) AS cost    -- from business POV, is revenue from each facility\n",
    "   FROM Bookings AS bk\n",
    "   LEFT JOIN Facilities AS fac ON fac.facid = bk.facid\n",
    "   LEFT JOIN Members AS mem ON mem.memid = bk.memid\n",
    ")\n",
    "\n",
    "SELECT \n",
    "\tfacid,\n",
    "    name AS facility,\n",
    "    SUM(cost) as revenue\n",
    "FROM info_with_costs\n",
    "GROUP BY facid\n",
    "HAVING revenue < 1000\n",
    "\n",
    "ORDER BY cost DESC;\n",
    "\"\"\"\n",
    "\n",
    "\n",
    "\n",
    "cur.execute(query_10)\n",
    "rows = cur.fetchall()\n",
    "for row in rows:\n",
    "    print(row)\n"
   ]
  },
  {
   "cell_type": "code",
   "execution_count": 25,
   "id": "85d8a41e-b9b4-49cd-baf3-4248d88c58e3",
   "metadata": {},
   "outputs": [
    {
     "name": "stdout",
     "output_type": "stream",
     "text": [
      "('Bader, Florence', 'Stibbons, Ponder')\n",
      "('Baker, Anne', 'Stibbons, Ponder')\n",
      "('Baker, Timothy', 'Farrell, Jemima')\n",
      "('Boothe, Tim', 'Rownam, Tim')\n",
      "('Butters, Gerald', 'Smith, Darren')\n",
      "('Coplin, Joan', 'Baker, Timothy')\n",
      "('Crumpet, Erica', 'Smith, Tracy')\n",
      "('Dare, Nancy', 'Joplette, Janice')\n",
      "('Genting, Matthew', 'Butters, Gerald')\n",
      "('Hunt, John', 'Purview, Millicent')\n",
      "('Jones, David', 'Joplette, Janice')\n",
      "('Jones, Douglas', 'Jones, David')\n",
      "('Joplette, Janice', 'Smith, Darren')\n",
      "('Mackenzie, Anna', 'Smith, Darren')\n",
      "('Owen, Charles', 'Smith, Darren')\n",
      "('Pinker, David', 'Farrell, Jemima')\n",
      "('Purview, Millicent', 'Smith, Tracy')\n",
      "('Rumney, Henrietta', 'Genting, Matthew')\n",
      "('Sarwin, Ramnaresh', 'Bader, Florence')\n",
      "('Smith, Jack', 'Smith, Darren')\n",
      "('Stibbons, Ponder', 'Tracy, Burton')\n",
      "('Worthington-Smyth, Henry', 'Smith, Tracy')\n"
     ]
    }
   ],
   "source": [
    "# Question 11: members and recommenders\n",
    "# Listing all members, or just those who have a recommender?  \n",
    "# I'll list just the ones with recommendations, using inner join.\n",
    "# To list all, use left join.  b\n",
    "\n",
    "query_11 = \"\"\"\n",
    "SELECT concat(mem.surname, \", \", mem.firstname), concat(rec.surname, \", \", rec.firstname)\n",
    "FROM Members AS mem \n",
    "INNER JOIN Members AS rec  \n",
    "   ON mem.recommendedby = rec.memid \n",
    "ORDER BY mem.surname, mem.firstname;\n",
    "\"\"\"\n",
    "\n",
    "cur.execute(query_11)\n",
    "rows = cur.fetchall()\n",
    "for row in rows:\n",
    "    print(row)\n",
    "\n"
   ]
  },
  {
   "cell_type": "code",
   "execution_count": 22,
   "id": "966909f9-3ef4-485e-8840-861c419bbf3b",
   "metadata": {},
   "outputs": [
    {
     "data": {
      "text/plain": [
       "(list, tuple)"
      ]
     },
     "execution_count": 22,
     "metadata": {},
     "output_type": "execute_result"
    }
   ],
   "source": [
    "type(rows), type(rows[2])"
   ]
  },
  {
   "cell_type": "code",
   "execution_count": 27,
   "id": "54d7481b-24cd-4ef0-a858-bc403b3d9f3c",
   "metadata": {},
   "outputs": [
    {
     "name": "stdout",
     "output_type": "stream",
     "text": [
      "Member                  Recommender           \n",
      "Bader, Florence         Stibbons, Ponder      \n",
      "Baker, Anne             Stibbons, Ponder      \n",
      "Baker, Timothy          Farrell, Jemima       \n",
      "Boothe, Tim             Rownam, Tim           \n",
      "Butters, Gerald         Smith, Darren         \n",
      "Coplin, Joan            Baker, Timothy        \n",
      "Crumpet, Erica          Smith, Tracy          \n",
      "Dare, Nancy             Joplette, Janice      \n",
      "Genting, Matthew        Butters, Gerald       \n",
      "Hunt, John              Purview, Millicent    \n",
      "Jones, David            Joplette, Janice      \n",
      "Jones, Douglas          Jones, David          \n",
      "Joplette, Janice        Smith, Darren         \n",
      "Mackenzie, Anna         Smith, Darren         \n",
      "Owen, Charles           Smith, Darren         \n",
      "Pinker, David           Farrell, Jemima       \n",
      "Purview, Millicent      Smith, Tracy          \n",
      "Rumney, Henrietta       Genting, Matthew      \n",
      "Sarwin, Ramnaresh       Bader, Florence       \n",
      "Smith, Jack             Smith, Darren         \n",
      "Stibbons, Ponder        Tracy, Burton         \n",
      "Worthington-Smyth, Henry  Smith, Tracy          \n"
     ]
    }
   ],
   "source": [
    "# Nicer formatting \n",
    "\n",
    "fmt11 = \"%-22s  %-22s\"\n",
    "print(fmt11 %  (\"Member\", \"Recommender\"))\n",
    "for row in rows:\n",
    "    print(fmt11 % (row[0], row[1]))"
   ]
  },
  {
   "cell_type": "code",
   "execution_count": 16,
   "id": "86cb49ca-fd8c-4cb6-9e70-2a17b2ee4189",
   "metadata": {},
   "outputs": [
    {
     "name": "stdout",
     "output_type": "stream",
     "text": [
      "(2, 'Badminton Court', 1086)\n",
      "(0, 'Tennis Court 1', 957)\n",
      "(4, 'Massage Room 1', 884)\n",
      "(1, 'Tennis Court 2', 882)\n",
      "(7, 'Snooker Table', 860)\n",
      "(8, 'Pool Table', 856)\n",
      "(3, 'Table Tennis', 794)\n",
      "(6, 'Squash Court', 418)\n",
      "(5, 'Massage Room 2', 54)\n"
     ]
    }
   ],
   "source": [
    "# Question 12: facility usage by members not guests\n",
    "# Unclear exactly what is being asked for.\n",
    "# Taking this to mean a list of all facilities, each with the total number of slots used by members, not counting guests.\n",
    "\n",
    "query_12 = \"\"\"\n",
    "SELECT \n",
    "\tfac.facid, fac.name, SUM(bk.slots) AS usage\n",
    "FROM Bookings AS bk\n",
    "   JOIN Facilities AS fac ON fac.facid = bk.facid\n",
    "   JOIN Members AS mem ON mem.memid = bk.memid\n",
    "WHERE mem.memid > 0 \n",
    "GROUP BY fac.facid\n",
    "ORDER BY usage DESC;\n",
    "\"\"\"\n",
    "\n",
    "\n",
    "cur.execute(query_12)\n",
    "rows = cur.fetchall()\n",
    "for row in rows:\n",
    "    print(row)\n",
    "\n"
   ]
  },
  {
   "cell_type": "code",
   "execution_count": 18,
   "id": "7f4241be-70eb-42b8-b1b1-b4ef0da80270",
   "metadata": {},
   "outputs": [
    {
     "name": "stdout",
     "output_type": "stream",
     "text": [
      "(6, 'Squash Court', 686)\n",
      "(4, 'Massage Room 1', 520)\n",
      "(1, 'Tennis Court 2', 396)\n",
      "(0, 'Tennis Court 1', 363)\n",
      "(5, 'Massage Room 2', 174)\n",
      "(2, 'Badminton Court', 123)\n",
      "(8, 'Pool Table', 54)\n",
      "(7, 'Snooker Table', 48)\n",
      "(3, 'Table Tennis', 36)\n"
     ]
    }
   ],
   "source": [
    "# Question 12-Modified: ask about only guest usage instead of only member usage (just curious)\n",
    "# Only one change:  replace <> with = in the WHERE\n",
    "#\n",
    "# For total usage, guests and members, could remove the WHERE but \n",
    "# quicker to put memid >= 0, which can be quickly changed back to the other cases.\n",
    "\n",
    "query_12_guests = \"\"\"\n",
    "SELECT \n",
    "\tfac.facid, fac.name, SUM(bk.slots) AS usage\n",
    "FROM Bookings AS bk\n",
    "   JOIN Facilities AS fac ON fac.facid = bk.facid\n",
    "   JOIN Members AS mem ON mem.memid = bk.memid\n",
    "WHERE mem.memid = 0 \n",
    "GROUP BY fac.facid\n",
    "ORDER BY usage DESC;\n",
    "\"\"\"\n",
    "\n",
    "\n",
    "cur.execute(query_12_guests)\n",
    "rows = cur.fetchall()\n",
    "for row in rows:\n",
    "    print(row)\n",
    "\n"
   ]
  },
  {
   "cell_type": "markdown",
   "id": "354d0f9b-a33a-4a32-93ea-742dcc5c6c26",
   "metadata": {},
   "source": [
    "* Interesting how Squash is tops with guests, but next to bottom in the members-only list. \n",
    "* Tennis and massage are popular with everyone. \n",
    "* Snooker has roughly 16x the guest activity compared to members."
   ]
  },
  {
   "cell_type": "code",
   "execution_count": 21,
   "id": "225a8f29-085a-4f12-ab04-4cbfcf972956",
   "metadata": {},
   "outputs": [
    {
     "name": "stdout",
     "output_type": "stream",
     "text": [
      "('Aug', 2531)\n",
      "('Jul', 1061)\n",
      "('Sep', 3199)\n"
     ]
    }
   ],
   "source": [
    "# Question 13: monthly facility usage\n",
    "\n",
    "query_13 = \"\"\"\n",
    "WITH withmonths AS (\n",
    "   SELECT  \n",
    "\t\tsubstr('JanFebMarAprMayJunJulAugSepOctNovDec', \n",
    "\t\t      1 + 3*strftime('%m',starttime),\n",
    "\t\t      -3)  AS month,\n",
    "\t\tfac.facid AS facid, \n",
    "\t\tfac.name  AS facname,\t\t\n",
    "\t\tbk.memid AS memid, \n",
    "\t\tbk.slots AS slots\n",
    "   FROM Bookings      AS bk\n",
    "      JOIN Facilities AS fac  ON fac.facid = bk.facid\n",
    "      JOIN Members    AS mem  ON mem.memid = bk.memid\n",
    "   WHERE bk.memid > 0    -- don't count guests, only members\n",
    ")\n",
    "\n",
    "SELECT month, sum(slots) as total_slots    -- facid, facname, SUM(slots)\n",
    "FROM withmonths\n",
    "GROUP BY month\n",
    "ORDER BY month;\n",
    "\"\"\"\n",
    "\n",
    "\n",
    "cur.execute(query_13)\n",
    "rows = cur.fetchall()\n",
    "for row in rows:\n",
    "    print(row)\n",
    "\n"
   ]
  },
  {
   "cell_type": "code",
   "execution_count": 31,
   "id": "93cdba5b-c218-4ecd-9577-e415ef63c936",
   "metadata": {},
   "outputs": [],
   "source": [
    "# END OF QUESTIONS - Close connection\n",
    "\n",
    "# connection.commit()   # ...if writing to db, but we're not, so don't commit.\n",
    "connection.close()\n"
   ]
  }
 ],
 "metadata": {
  "kernelspec": {
   "display_name": "Python 3 (ipykernel)",
   "language": "python",
   "name": "python3"
  },
  "language_info": {
   "codemirror_mode": {
    "name": "ipython",
    "version": 3
   },
   "file_extension": ".py",
   "mimetype": "text/x-python",
   "name": "python",
   "nbconvert_exporter": "python",
   "pygments_lexer": "ipython3",
   "version": "3.13.5"
  }
 },
 "nbformat": 4,
 "nbformat_minor": 5
}
